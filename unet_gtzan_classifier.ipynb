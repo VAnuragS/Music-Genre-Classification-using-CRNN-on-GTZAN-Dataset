{
 "cells": [
  {
   "cell_type": "code",
   "execution_count": 2,
   "id": "ac944728",
   "metadata": {},
   "outputs": [],
   "source": [
    "import os\n",
    "import torch\n",
    "import torchaudio\n",
    "import torchaudio.transforms as T\n",
    "import torch.nn as nn\n",
    "import torch.nn.functional as F\n",
    "import numpy as np\n",
    "import matplotlib.pyplot as plt\n",
    "from torch.utils.data import DataLoader\n",
    "from sklearn.metrics import f1_score, accuracy_score, confusion_matrix, ConfusionMatrixDisplay\n",
    "from tqdm import tqdm\n",
    "from multiprocessing import cpu_count\n",
    "import concurrent.futures"
   ]
  },
  {
   "cell_type": "code",
   "execution_count": 3,
   "id": "3df74b6c",
   "metadata": {},
   "outputs": [
    {
     "name": "stdout",
     "output_type": "stream",
     "text": [
      "Device and seed setup complete.\n"
     ]
    }
   ],
   "source": [
    "# --- Device and Seed ---\n",
    "device = torch.device(\"cuda\" if torch.cuda.is_available() else \"cpu\")\n",
    "torch.manual_seed(42)\n",
    "np.random.seed(42)\n",
    "print(\"Device and seed setup complete.\")"
   ]
  },
  {
   "cell_type": "code",
   "execution_count": 4,
   "id": "36b40304",
   "metadata": {},
   "outputs": [],
   "source": [
    "# --- Parameters ---\n",
    "sample_rate = 22050\n",
    "n_mels = 128\n",
    "hop_length = 512\n",
    "fixed_width = 1280\n",
    "batch_size = 32"
   ]
  },
  {
   "cell_type": "code",
   "execution_count": 5,
   "id": "cf2fcc8a",
   "metadata": {},
   "outputs": [
    {
     "name": "stdout",
     "output_type": "stream",
     "text": [
      "Genre labels loaded.\n"
     ]
    }
   ],
   "source": [
    "# --- Data Directory ---\n",
    "data_dir = \"C:/Users/anura/Downloads/archive (1)/Data/genres_original\"\n",
    "genres = sorted(os.listdir(data_dir))\n",
    "label_map = {genre: idx for idx, genre in enumerate(genres)}\n",
    "print(\"Genre labels loaded.\")"
   ]
  },
  {
   "cell_type": "code",
   "execution_count": 6,
   "id": "4d135adb",
   "metadata": {},
   "outputs": [
    {
     "name": "stdout",
     "output_type": "stream",
     "text": [
      "Mel spectrogram transform created.\n"
     ]
    }
   ],
   "source": [
    "# --- Mel Transform ---\n",
    "mel_transform = T.MelSpectrogram(\n",
    "    sample_rate=sample_rate,\n",
    "    n_fft=2048,\n",
    "    hop_length=hop_length,\n",
    "    n_mels=n_mels\n",
    ").to(device)\n",
    "print(\"Mel spectrogram transform created.\")\n",
    "\n",
    "# --- dB Conversion ---\n",
    "def to_db(mel):\n",
    "    return torchaudio.functional.amplitude_to_DB(mel, multiplier=10.0, amin=1e-10, db_multiplier=0.0)\n",
    "\n",
    "# --- Audio to Mel ---\n",
    "def wav_to_mel(filepath):\n",
    "    waveform, sr = torchaudio.load(filepath)\n",
    "    if sr != sample_rate:\n",
    "        resample = T.Resample(orig_freq=sr, new_freq=sample_rate).to(device)\n",
    "        waveform = resample(waveform.to(device))\n",
    "    else:\n",
    "        waveform = waveform.to(device)\n",
    "\n",
    "    mel = mel_transform(waveform)\n",
    "    mel_db = to_db(mel)\n",
    "    mel_db = mel_db.squeeze(0).cpu()\n",
    "    mel_db = (mel_db - mel_db.mean()) / mel_db.std()\n",
    "\n",
    "    if np.random.rand() < 0.5:\n",
    "        mel_db *= np.random.uniform(0.9, 1.1)\n",
    "    if np.random.rand() < 0.3:\n",
    "        mel_db += torch.randn_like(mel_db) * 0.02\n",
    "    if np.random.rand() < 0.3:\n",
    "        t = np.random.randint(10, 40)\n",
    "        t0 = np.random.randint(0, mel_db.shape[1] - t)\n",
    "        mel_db[:, t0:t0 + t] = 0\n",
    "\n",
    "    if mel_db.shape[1] < fixed_width:\n",
    "        mel_db = F.pad(mel_db, (0, fixed_width - mel_db.shape[1]))\n",
    "    else:\n",
    "        mel_db = mel_db[:, :fixed_width]\n",
    "\n",
    "    return mel_db.unsqueeze(0)"
   ]
  },
  {
   "cell_type": "code",
   "execution_count": 7,
   "id": "5235b761",
   "metadata": {},
   "outputs": [
    {
     "name": "stdout",
     "output_type": "stream",
     "text": [
      "File paths and labels collected.\n",
      "Data shuffled.\n"
     ]
    }
   ],
   "source": [
    "# --- Load Data ---\n",
    "file_paths, labels = [], []\n",
    "for genre in genres:\n",
    "    genre_dir = os.path.join(data_dir, genre)\n",
    "    for filename in os.listdir(genre_dir):\n",
    "        if filename.endswith(\".wav\"):\n",
    "            file_paths.append(os.path.join(genre_dir, filename))\n",
    "            labels.append(label_map[genre])\n",
    "print(\"File paths and labels collected.\")\n",
    "\n",
    "combined = list(zip(file_paths, labels))\n",
    "np.random.shuffle(combined)\n",
    "file_paths, labels = zip(*combined)\n",
    "print(\"Data shuffled.\")\n",
    "\n"
   ]
  },
  {
   "cell_type": "code",
   "execution_count": 8,
   "id": "92986cf9",
   "metadata": {},
   "outputs": [
    {
     "name": "stderr",
     "output_type": "stream",
     "text": [
      "100%|██████████| 1000/1000 [00:01<00:00, 643.94it/s]\n"
     ]
    },
    {
     "name": "stdout",
     "output_type": "stream",
     "text": [
      "Mel-spectrograms computed and augmented.\n",
      "Data tensors prepared.\n",
      "Data split into train and validation sets.\n",
      "Data loaders created.\n"
     ]
    }
   ],
   "source": [
    "# --- Parallel Processing of Spectrograms ---\n",
    "def process_file(args):\n",
    "    filepath, label = args\n",
    "    try:\n",
    "        mel = wav_to_mel(filepath)\n",
    "        return mel, label\n",
    "    except:\n",
    "        return None\n",
    "\n",
    "mel_specs, targets = [], []\n",
    "with concurrent.futures.ThreadPoolExecutor(max_workers=cpu_count()) as executor:\n",
    "    for result in tqdm(executor.map(process_file, zip(file_paths, labels)), total=len(file_paths)):\n",
    "        if result:\n",
    "            mel, label = result\n",
    "            mel_specs.append(mel)\n",
    "            targets.append(label)\n",
    "print(\"Mel-spectrograms computed and augmented.\")\n",
    "\n",
    "X = torch.stack(mel_specs).float()\n",
    "y = torch.tensor(targets)\n",
    "print(\"Data tensors prepared.\")\n",
    "\n",
    "train_size = int(0.85 * len(X))\n",
    "X_train, X_val = X[:train_size], X[train_size:]\n",
    "y_train, y_val = y[:train_size], y[train_size:]\n",
    "print(\"Data split into train and validation sets.\")\n",
    "\n",
    "train_loader = DataLoader(list(zip(X_train, y_train)), batch_size=batch_size, shuffle=True, pin_memory=True)\n",
    "val_loader = DataLoader(list(zip(X_val, y_val)), batch_size=batch_size, pin_memory=True)\n",
    "print(\"Data loaders created.\")"
   ]
  },
  {
   "cell_type": "code",
   "execution_count": 9,
   "id": "e1449231",
   "metadata": {},
   "outputs": [
    {
     "name": "stdout",
     "output_type": "stream",
     "text": [
      "Convolutional layers initialized.\n",
      "GRU and fully connected layers initialized.\n",
      "Optimizer and loss function ready.\n"
     ]
    }
   ],
   "source": [
    "# --- Model ---\n",
    "conv1 = nn.Conv2d(1, 64, kernel_size=3, padding=1).to(device)\n",
    "bn1 = nn.BatchNorm2d(64).to(device)\n",
    "conv2 = nn.Conv2d(64, 128, kernel_size=3, padding=1).to(device)\n",
    "bn2 = nn.BatchNorm2d(128).to(device)\n",
    "conv3 = nn.Conv2d(128, 256, kernel_size=3, padding=1).to(device)\n",
    "bn3 = nn.BatchNorm2d(256).to(device)\n",
    "\n",
    "print(\"Convolutional layers initialized.\")\n",
    "\n",
    "grulayer = nn.GRU(input_size=256 * 16, hidden_size=128, num_layers=2, batch_first=True, bidirectional=True).to(device)\n",
    "fc1 = nn.Linear(128 * 2, 128).to(device)\n",
    "fc2 = nn.Linear(128, 10).to(device)\n",
    "dropout = nn.Dropout(0.5).to(device)\n",
    "print(\"GRU and fully connected layers initialized.\")\n",
    "\n",
    "params = list(conv1.parameters()) + list(bn1.parameters()) + list(conv2.parameters()) + list(bn2.parameters()) + \\\n",
    "         list(conv3.parameters()) + list(bn3.parameters()) + list(grulayer.parameters()) + \\\n",
    "         list(fc1.parameters()) + list(fc2.parameters()) + list(dropout.parameters())\n",
    "\n",
    "optimizer = torch.optim.Adam(params, lr=0.0003)\n",
    "scheduler = torch.optim.lr_scheduler.StepLR(optimizer, step_size=10, gamma=0.5)\n",
    "loss_fn = nn.CrossEntropyLoss()\n",
    "print(\"Optimizer and loss function ready.\")\n",
    "\n",
    "# --- Forward ---\n",
    "def forward(x):\n",
    "    x = F.relu(bn1(conv1(x)))\n",
    "    x = F.max_pool2d(x, 2)\n",
    "    x = F.relu(bn2(conv2(x)))\n",
    "    x = F.max_pool2d(x, 2)\n",
    "    x = F.relu(bn3(conv3(x)))\n",
    "    x = F.max_pool2d(x, 2)\n",
    "    x = x.permute(0, 3, 1, 2).flatten(2)\n",
    "    _, h = grulayer(x)\n",
    "    h = torch.cat((h[-2], h[-1]), dim=1)\n",
    "    x = dropout(F.relu(fc1(h)))\n",
    "    return fc2(x)"
   ]
  },
  {
   "cell_type": "code",
   "execution_count": 10,
   "id": "dac5bd2e",
   "metadata": {},
   "outputs": [
    {
     "name": "stdout",
     "output_type": "stream",
     "text": [
      "Starting training loop...\n",
      "Epoch 1, Loss: 57.8094, Val Acc: 0.3133, F1: 0.2571\n",
      "Saved best model!\n",
      "Epoch 2, Loss: 50.0785, Val Acc: 0.3467, F1: 0.3052\n",
      "Saved best model!\n",
      "Epoch 3, Loss: 43.6576, Val Acc: 0.3867, F1: 0.3477\n",
      "Saved best model!\n",
      "Epoch 4, Loss: 40.0113, Val Acc: 0.5467, F1: 0.5222\n",
      "Saved best model!\n",
      "Epoch 5, Loss: 33.8088, Val Acc: 0.5333, F1: 0.5284\n",
      "Saved best model!\n",
      "Epoch 6, Loss: 29.4405, Val Acc: 0.5800, F1: 0.5493\n",
      "Saved best model!\n",
      "Epoch 7, Loss: 26.7263, Val Acc: 0.7000, F1: 0.7058\n",
      "Saved best model!\n",
      "Epoch 8, Loss: 22.4743, Val Acc: 0.6200, F1: 0.5974\n",
      "Epoch 9, Loss: 20.0027, Val Acc: 0.6467, F1: 0.6115\n",
      "Epoch 10, Loss: 16.4388, Val Acc: 0.7333, F1: 0.7207\n",
      "Saved best model!\n",
      "Epoch 11, Loss: 12.3130, Val Acc: 0.7333, F1: 0.7189\n",
      "Epoch 12, Loss: 10.4625, Val Acc: 0.7800, F1: 0.7742\n",
      "Saved best model!\n",
      "Epoch 13, Loss: 9.2001, Val Acc: 0.7133, F1: 0.6969\n",
      "Epoch 14, Loss: 6.6861, Val Acc: 0.7467, F1: 0.7406\n",
      "Epoch 15, Loss: 6.1464, Val Acc: 0.7800, F1: 0.7761\n",
      "Saved best model!\n",
      "Epoch 16, Loss: 5.9159, Val Acc: 0.7133, F1: 0.7104\n",
      "Epoch 17, Loss: 4.5212, Val Acc: 0.7733, F1: 0.7672\n",
      "Epoch 18, Loss: 4.0309, Val Acc: 0.8067, F1: 0.7994\n",
      "Saved best model!\n",
      "Epoch 19, Loss: 3.0251, Val Acc: 0.8067, F1: 0.8030\n",
      "Saved best model!\n",
      "Epoch 20, Loss: 2.2005, Val Acc: 0.7933, F1: 0.7862\n",
      "Epoch 21, Loss: 1.8336, Val Acc: 0.8267, F1: 0.8198\n",
      "Saved best model!\n",
      "Epoch 22, Loss: 1.6029, Val Acc: 0.7467, F1: 0.7407\n",
      "Epoch 23, Loss: 1.5185, Val Acc: 0.8333, F1: 0.8320\n",
      "Saved best model!\n",
      "Epoch 24, Loss: 1.3511, Val Acc: 0.8000, F1: 0.7945\n",
      "Epoch 25, Loss: 1.1366, Val Acc: 0.7867, F1: 0.7841\n",
      "Epoch 26, Loss: 1.1370, Val Acc: 0.8067, F1: 0.8047\n",
      "Epoch 27, Loss: 1.0020, Val Acc: 0.8133, F1: 0.8098\n",
      "Epoch 28, Loss: 0.9949, Val Acc: 0.8067, F1: 0.8042\n",
      "Early stopping!\n"
     ]
    }
   ],
   "source": [
    "# --- Training ---\n",
    "best_f1 = 0\n",
    "patience = 5\n",
    "epochs_no_improve = 0\n",
    "print(\"Starting training loop...\")\n",
    "\n",
    "for epoch in range(50):\n",
    "    total_loss = 0\n",
    "    for xb, yb in train_loader:\n",
    "        xb, yb = xb.to(device, non_blocking=True), yb.to(device, non_blocking=True)\n",
    "        optimizer.zero_grad()\n",
    "        preds = forward(xb)\n",
    "        loss = loss_fn(preds, yb)\n",
    "        loss.backward()\n",
    "        optimizer.step()\n",
    "        total_loss += loss.item()\n",
    "    scheduler.step()\n",
    "\n",
    "    all_preds, all_labels = [], []\n",
    "    with torch.no_grad():\n",
    "        for xb, yb in val_loader:\n",
    "            xb, yb = xb.to(device, non_blocking=True), yb.to(device, non_blocking=True)\n",
    "            preds = forward(xb)\n",
    "            preds = torch.argmax(preds, dim=1).cpu().numpy()\n",
    "            all_preds.extend(preds)\n",
    "            all_labels.extend(yb.cpu().numpy())\n",
    "\n",
    "    acc = accuracy_score(all_labels, all_preds)\n",
    "    f1 = f1_score(all_labels, all_preds, average='macro')\n",
    "    print(f\"Epoch {epoch+1}, Loss: {total_loss:.4f}, Val Acc: {acc:.4f}, F1: {f1:.4f}\")\n",
    "\n",
    "    if f1 > best_f1:\n",
    "        best_f1 = f1\n",
    "        epochs_no_improve = 0\n",
    "        torch.save({\n",
    "            'conv1': conv1.state_dict(),\n",
    "            'conv2': conv2.state_dict(),\n",
    "            'conv3': conv3.state_dict(),\n",
    "            'bn1': bn1.state_dict(),\n",
    "            'bn2': bn2.state_dict(),\n",
    "            'bn3': bn3.state_dict(),\n",
    "            'gru': grulayer.state_dict(),\n",
    "            'fc1': fc1.state_dict(),\n",
    "            'fc2': fc2.state_dict(),\n",
    "        }, \"best_gtzan_crnn.pth\")\n",
    "        print(\"Saved best model!\")\n",
    "    else:\n",
    "        epochs_no_improve += 1\n",
    "        if epochs_no_improve >= patience:\n",
    "            print(\"Early stopping!\")\n",
    "            break"
   ]
  },
  {
   "cell_type": "code",
   "execution_count": 13,
   "id": "3b4b0914",
   "metadata": {},
   "outputs": [
    {
     "name": "stdout",
     "output_type": "stream",
     "text": [
      "Evaluating model and generating confusion matrix...\n",
      "Final Accuracy: 0.8067\n",
      "Final F1 Score (macro): 0.8042\n"
     ]
    },
    {
     "data": {
      "image/png": "[encoded data removed]",
      "text/plain": [
       "<Figure size 640x480 with 2 Axes>"
      ]
     },
     "metadata": {},
     "output_type": "display_data"
    },
    {
     "name": "stdout",
     "output_type": "stream",
     "text": [
      "Confusion matrix displayed.\n"
     ]
    }
   ],
   "source": [
    "# --- Evaluation / Confusion Matrix ---\n",
    "print(\"Evaluating model and generating confusion matrix...\")\n",
    "\n",
    "acc = accuracy_score(all_labels, all_preds)\n",
    "f1 = f1_score(all_labels, all_preds, average='macro')\n",
    "\n",
    "print(f\"Final Accuracy: {acc:.4f}\")\n",
    "print(f\"Final F1 Score (macro): {f1:.4f}\")\n",
    "\n",
    "cm = confusion_matrix(all_labels, all_preds)\n",
    "disp = ConfusionMatrixDisplay(confusion_matrix=cm, display_labels=genres)\n",
    "disp.plot(xticks_rotation=45)\n",
    "plt.title(\"Confusion Matrix\")\n",
    "plt.tight_layout()\n",
    "plt.show()\n",
    "\n",
    "print(\"Confusion matrix displayed.\")\n"
   ]
  }
 ],
 "metadata": {
  "kernelspec": {
   "display_name": "base",
   "language": "python",
   "name": "python3"
  },
  "language_info": {
   "codemirror_mode": {
    "name": "ipython",
    "version": 3
   },
   "file_extension": ".py",
   "mimetype": "text/x-python",
   "name": "python",
   "nbconvert_exporter": "python",
   "pygments_lexer": "ipython3",
   "version": "3.11.7"
  }
 },
 "nbformat": 4,
 "nbformat_minor": 5
}
